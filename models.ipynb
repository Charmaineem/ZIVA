{
 "cells": [
  {
   "cell_type": "code",
   "execution_count": 1,
   "metadata": {},
   "outputs": [],
   "source": [
    "from transformers import AutoTokenizer, AutoModelForCausalLM"
   ]
  },
  {
   "cell_type": "code",
   "execution_count": null,
   "metadata": {},
   "outputs": [],
   "source": [
    "class HuggingfaceModel:\n",
    "\n",
    "    def __init__(self, model_path, model_type='huggingface'):\n",
    "        if not model_path:\n",
    "            raise ValueError('Missing model path')\n",
    "        \n",
    "        self.model_path = model_path\n",
    "        self.model_type = model_type\n",
    "        \n",
    "\n",
    "    def load_model():\n",
    "\n",
    "        \n",
    "\n",
    "    def generate():\n",
    "        pass\n",
    "\n",
    "\n",
    "def main():\n",
    "    model = HuggingfaceModel()\n",
    "\n",
    "if __name__() == \"__main__\":\n",
    "    main()\n"
   ]
  }
 ],
 "metadata": {
  "kernelspec": {
   "display_name": "ziva",
   "language": "python",
   "name": "python3"
  },
  "language_info": {
   "codemirror_mode": {
    "name": "ipython",
    "version": 3
   },
   "file_extension": ".py",
   "mimetype": "text/x-python",
   "name": "python",
   "nbconvert_exporter": "python",
   "pygments_lexer": "ipython3",
   "version": "3.12.4"
  }
 },
 "nbformat": 4,
 "nbformat_minor": 2
}
