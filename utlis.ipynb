{
 "cells": [
  {
   "cell_type": "code",
   "execution_count": 26,
   "metadata": {},
   "outputs": [],
   "source": [
    "from langchain_core.prompts import PromptTemplate\n",
    "from models import HuggingfaceModel\n",
    "from langchain import LLMChain\n",
    "from langchain import LlamaCpp"
   ]
  },
  {
   "cell_type": "code",
   "execution_count": 23,
   "metadata": {},
   "outputs": [],
   "source": [
    "template = '''\n",
    "<s><|user|>\n",
    "When provided with text {input} create a description for a technical document\n",
    "<|end|>\n",
    "<|assistant|>\n",
    "\n",
    "'''"
   ]
  },
  {
   "cell_type": "code",
   "execution_count": 24,
   "metadata": {},
   "outputs": [],
   "source": [
    "prompt = PromptTemplate(\n",
    "    input_variables=[input],\n",
    "    template=template\n",
    ")"
   ]
  },
  {
   "cell_type": "code",
   "execution_count": 18,
   "metadata": {},
   "outputs": [],
   "source": [
    "def model(model_path):\n",
    "    model = LlamaCpp(\n",
    "    model_path = model_path,\n",
    "    max_tokens=500,\n",
    "    seed=42,\n",
    "    verbose=False)\n",
    "\n",
    "    return model"
   ]
  },
  {
   "cell_type": "code",
   "execution_count": 21,
   "metadata": {},
   "outputs": [
    {
     "name": "stderr",
     "output_type": "stream",
     "text": [
      "llama_init_from_model: n_batch is less than GGML_KQ_MASK_PAD - increasing to 64\n",
      "llama_init_from_model: n_ctx_per_seq (512) < n_ctx_train (4096) -- the full capacity of the model will not be utilized\n",
      "ggml_metal_init: skipping kernel_get_rows_bf16                     (not supported)\n",
      "ggml_metal_init: skipping kernel_mul_mv_bf16_f32                   (not supported)\n",
      "ggml_metal_init: skipping kernel_mul_mv_bf16_f32_1row              (not supported)\n",
      "ggml_metal_init: skipping kernel_mul_mv_bf16_f32_l4                (not supported)\n",
      "ggml_metal_init: skipping kernel_mul_mv_bf16_bf16                  (not supported)\n",
      "ggml_metal_init: skipping kernel_mul_mv_id_bf16_f32                (not supported)\n",
      "ggml_metal_init: skipping kernel_mul_mm_bf16_f32                   (not supported)\n",
      "ggml_metal_init: skipping kernel_mul_mm_id_bf16_f32                (not supported)\n",
      "ggml_metal_init: skipping kernel_flash_attn_ext_bf16_h64           (not supported)\n",
      "ggml_metal_init: skipping kernel_flash_attn_ext_bf16_h80           (not supported)\n",
      "ggml_metal_init: skipping kernel_flash_attn_ext_bf16_h96           (not supported)\n",
      "ggml_metal_init: skipping kernel_flash_attn_ext_bf16_h112          (not supported)\n",
      "ggml_metal_init: skipping kernel_flash_attn_ext_bf16_h128          (not supported)\n",
      "ggml_metal_init: skipping kernel_flash_attn_ext_bf16_h256          (not supported)\n",
      "ggml_metal_init: skipping kernel_flash_attn_ext_vec_bf16_h128      (not supported)\n",
      "ggml_metal_init: skipping kernel_flash_attn_ext_vec_bf16_h256      (not supported)\n",
      "ggml_metal_init: skipping kernel_cpy_f32_bf16                      (not supported)\n",
      "ggml_metal_init: skipping kernel_cpy_bf16_f32                      (not supported)\n",
      "ggml_metal_init: skipping kernel_cpy_bf16_bf16                     (not supported)\n"
     ]
    }
   ],
   "source": [
    "path = '/Users/charmainemahachi/Documents/ZIVA/Phi-3-mini-4k-instruct-fp16.gguf'\n",
    "llm = model(path)"
   ]
  },
  {
   "cell_type": "code",
   "execution_count": 27,
   "metadata": {},
   "outputs": [],
   "source": [
    "chain = LLMChain(\n",
    "    llm=llm,\n",
    "    prompt=prompt,\n",
    "    output_key='description'\n",
    ")"
   ]
  },
  {
   "cell_type": "code",
   "execution_count": 28,
   "metadata": {},
   "outputs": [],
   "source": [
    "sample_input =\"\"\"\n",
    "Design and development of a microcontroller-based temperature monitoring system for industrial applications. \n",
    "The system should include real-time data acquisition, processing, and visualization capabilities.\n",
    "\"\"\""
   ]
  },
  {
   "cell_type": "code",
   "execution_count": 29,
   "metadata": {},
   "outputs": [
    {
     "data": {
      "text/plain": [
       "{'input': '\\nDesign and development of a microcontroller-based temperature monitoring system for industrial applications. \\nThe system should include real-time data acquisition, processing, and visualization capabilities.\\n',\n",
       " 'description': \" Title: Design and Development of a Microcontroller-Based Temperature Monitoring System for Industrial Applications\\n\\n1. Introduction\\nThis technical document presents the design, development, and implementation details for an innovative microcontroller-based temperature monitoring system tailored for industrial applications. The proposed system is built to meet industry standards by providing real-time data acquisition, processing, and visualization capabilities essential for maintaining optimal operating conditions within industrial environments.\\n\\n2. System Overview\\nThe designed system integrates a high-performance microcontroller unit (MCU) as the primary component responsible for temperature sensing, data collection, signal conditioning, and control logic implementation. The MCU will interface with various external components like thermocouples or resistance temperature detectors (RTDs), communication modules, analog-to-digital converters (ADCs), display units, and networking devices to perform the system's primary functions effectively.\\n\\n3. System Components and Architecture\\nThis section describes in detail each component of our designed system:\\n\\na) Temperature Sensors: Thermocouples or RTDs will be used as temperature sensing elements due to their high accuracy, stability, and wide-range response capabilities. These sensors will provide the raw data that is processed by the MCU.\\n\\nb) Microcontroller Unit (MCU): A highly capable microcontroller with adequate processing power, memory size, and I/O ports for interfacing with other system components shall be chosen based on real-time performance requirements, available programming languages, and libraries supporting temperature sensing functionality.\\n\\nc) Analog-to-Digital Converters (ADCs): A high-resolution ADC will be utilized to accurately convert the analog signals from temperature sensors into digital data for further processing by the MCU.\\n\\nd) Communication Module: The system shall include a communication module compatible with popular industrial protocols like Modbus, Profibus or Ethernet/IP that facilitates real-time transmission of collected data to an appropriate endpoint for visualization and analysis purposes.\\n\\ne) Display Unit:\"}"
      ]
     },
     "execution_count": 29,
     "metadata": {},
     "output_type": "execute_result"
    }
   ],
   "source": [
    "chain.invoke(sample_input)"
   ]
  },
  {
   "cell_type": "code",
   "execution_count": 32,
   "metadata": {},
   "outputs": [
    {
     "name": "stdout",
     "output_type": "stream",
     "text": [
      "Design and development of a microcontroller-based temperature monitoring system for industrial applications. \n",
      "The system should include real-time data acquisition, processing, and visualization capabilities.\n",
      "\n"
     ]
    }
   ],
   "source": [
    "with open('txt.txt', 'r') as file:\n",
    "    input_text = file.read()\n",
    "    print(input_text)"
   ]
  },
  {
   "cell_type": "code",
   "execution_count": 50,
   "metadata": {},
   "outputs": [],
   "source": [
    "import docx\n",
    "from docx import Document"
   ]
  },
  {
   "cell_type": "code",
   "execution_count": 51,
   "metadata": {},
   "outputs": [
    {
     "name": "stdout",
     "output_type": "stream",
     "text": [
      "Document loaded successfully\n"
     ]
    }
   ],
   "source": [
    "import os\n",
    "\n",
    "path = '/Users/charmainemahachi/Documents/ZIVA/docx.docx'\n",
    "\n",
    "if os.path.exists(path):\n",
    "    doc = Document(path)\n",
    "    print('Document loaded successfully')\n",
    "\n",
    "else:\n",
    "    print(f\"File not found\")"
   ]
  },
  {
   "cell_type": "code",
   "execution_count": 52,
   "metadata": {},
   "outputs": [
    {
     "data": {
      "text/plain": [
       "<docx.document.Document at 0x17fabb080>"
      ]
     },
     "execution_count": 52,
     "metadata": {},
     "output_type": "execute_result"
    }
   ],
   "source": [
    "doc"
   ]
  },
  {
   "cell_type": "code",
   "execution_count": 64,
   "metadata": {},
   "outputs": [
    {
     "data": {
      "text/plain": [
       "'This is a word file'"
      ]
     },
     "execution_count": 64,
     "metadata": {},
     "output_type": "execute_result"
    }
   ],
   "source": [
    "from langchain_community.document_loaders import Docx2txtLoader\n",
    "\n",
    "loader = Docx2txtLoader('docx.docx')\n",
    "data = loader.load()\n",
    "data[0].page_content"
   ]
  },
  {
   "cell_type": "code",
   "execution_count": 66,
   "metadata": {},
   "outputs": [
    {
     "name": "stderr",
     "output_type": "stream",
     "text": [
      "Ignoring wrong pointing object 12 0 (offset 0)\n"
     ]
    }
   ],
   "source": [
    "from langchain_community.document_loaders import PyPDFLoader\n",
    "\n",
    "pdf_loader = PyPDFLoader('pdf.pdf')\n",
    "pages = []\n",
    "async for page in pdf_loader.alazy_load():\n",
    "    pages.append(page)"
   ]
  },
  {
   "cell_type": "code",
   "execution_count": 67,
   "metadata": {},
   "outputs": [
    {
     "name": "stdout",
     "output_type": "stream",
     "text": [
      "[Document(metadata={'producer': 'Skia/PDF m137 Google Docs Renderer', 'creator': 'PyPDF', 'creationdate': '', 'title': 'pdf', 'source': 'pdf.pdf', 'total_pages': 1, 'page': 0, 'page_label': '1'}, page_content='This  is  a  pdf  file')]\n"
     ]
    }
   ],
   "source": [
    "print(pages)"
   ]
  },
  {
   "cell_type": "code",
   "execution_count": null,
   "metadata": {},
   "outputs": [],
   "source": []
  }
 ],
 "metadata": {
  "kernelspec": {
   "display_name": "ziva",
   "language": "python",
   "name": "python3"
  },
  "language_info": {
   "codemirror_mode": {
    "name": "ipython",
    "version": 3
   },
   "file_extension": ".py",
   "mimetype": "text/x-python",
   "name": "python",
   "nbconvert_exporter": "python",
   "pygments_lexer": "ipython3",
   "version": "3.12.4"
  }
 },
 "nbformat": 4,
 "nbformat_minor": 2
}
